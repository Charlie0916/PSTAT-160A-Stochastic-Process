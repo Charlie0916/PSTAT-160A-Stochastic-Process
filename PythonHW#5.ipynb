{
 "cells": [
  {
   "cell_type": "markdown",
   "metadata": {},
   "source": [
    "# Python Homework 5: Financial Credit Rating"
   ]
  },
  {
   "cell_type": "markdown",
   "metadata": {},
   "source": [
    "<font color=\"blue\"><b>Instruction:</b> Please upload your jupyter notebook on GauchoSpace with filename \"PythonHW5_<i>YOURPERMNUMBER</i>.ipynb\".</font>\n"
   ]
  },
  {
   "cell_type": "markdown",
   "metadata": {},
   "source": [
    "In Mathematical Finance, Markov chains are typically used to model the default risk of a company or country (more specifically, the default of a company's or country's liability like a corporate or government bond - see PSTAT 171 and PSTAT 170). \n",
    "\n",
    "Rating agencies (like <i>Standard & Poor’s</i>, <i>Moody’s</i>, <i>Fitch</i>) rate the financial stability of a company and classify them according to different classes. A possible classification may range from 'AAA' for debitors with a very good credit rating to 'CCC' for debitors which are very likely to delay in paying a debt; and 'D' for those debitors which can't satisfy their financial liabilities anymore (in other words, they are default). \n",
    "\n",
    "The yearly credit rating of a company can be modeled as a Markov chain $(X_n)_{n=0,1,2,\\ldots}$ with state space\n",
    "\n",
    "\n",
    "$$ \\mathcal{S} = \\{ AAA,\\, AA,\\, A,\\, BBB,\\, BB,\\, B,\\, CCC,\\, D \\} $$\n",
    "\n",
    "where $X_n$ represents the credit rating class of a company at the $n$-th year. The transition probabilities are given by\n",
    "\n",
    "\\begin{equation*}\n",
    "\\begin{array}{ccccccccc}\n",
    " & AAA & AA & A & BBB & BB & B & CCC & D \\\\\n",
    " AAA & 92,07 & 7,09 & 0,63 & 0,15 & 0,06 & 0,00 & 0,00 & 0,00 \\\\ \n",
    " AA & 0,62 & 90,84 & 7,76 & 0,59 & 0,06 & 0,10 & 0,02 & 0,01 \\\\\n",
    " A & 0,05 & 2,09 & 91,38 & 5,79 & 0,44 & 0,16 & 0,04 & 0,05 \\\\\n",
    " BBB & 0,03 & 0,21 & 4,10 & 89,37 & 4,82 & 0,86 & 0,24 & 0,37 \\\\\n",
    " BB & 0,03 & 0,08 & 0,40 & 5,54 & 83,24 & 8,15 & 1,11 & 1,45 \\\\\n",
    " B & 0,00 & 0,08 & 0,27 & 0,34 & 5,39 & 82,41 & 4,92 & 6,59 \\\\\n",
    " CCC & 0,10 & 0,00 & 0,29 & 0,58 & 1,55 & 10,54 & 52,80 & 34,14 \\\\\n",
    " D & 0,00 & 0,00 & 0,00 & 0,00 & 0,00 & 0,00 & 0,00 & 100,0\n",
    "\\end{array} \n",
    "\\end{equation*}\n",
    "\n",
    "<i>Remark</i>: For your implementations below, you can label the different states from $0$ to $7$, where $0$ represents state $AAA$, $1$ represents state $AA$, and so on."
   ]
  },
  {
   "cell_type": "markdown",
   "metadata": {},
   "source": [
    "As usual, we start with loading some packages:"
   ]
  },
  {
   "cell_type": "code",
   "execution_count": 1,
   "metadata": {},
   "outputs": [],
   "source": [
    "import numpy as np\n",
    "import math\n",
    "import matplotlib.pyplot as plt\n",
    "import pandas as pd\n",
    "import csv\n",
    "\n",
    "# Allows to render plots directly within the notebook\n",
    "%matplotlib inline"
   ]
  },
  {
   "cell_type": "markdown",
   "metadata": {},
   "source": [
    "## Problem 1 (2 points)\n",
    "\n",
    "We start with loading the matrix from the accompanying external .csv-file."
   ]
  },
  {
   "cell_type": "code",
   "execution_count": 2,
   "metadata": {},
   "outputs": [],
   "source": [
    "csvFile = 'CreditRatingTransMatrixP.csv'   #specify the path to your csv file\n",
    "\n",
    "P = []\n",
    "with open( csvFile,'r' ) as file:\n",
    "    reader = csv.reader( file )\n",
    "    for row in reader:\n",
    "        P.append( [ float( prob ) for prob in row ] )"
   ]
  },
  {
   "cell_type": "markdown",
   "metadata": {},
   "source": [
    "P is a list representing the transition probability matrix. In particular, $P[i][j]$ gives you the probabilities from state $i$ to $j$, for $i,j\\in\\{0,1,2,\\dots, 7\\}$. There are many other ways to read and store the transition matrix, e.g., you could also try 'pandas'."
   ]
  },
  {
   "cell_type": "code",
   "execution_count": 3,
   "metadata": {},
   "outputs": [
    {
     "data": {
      "text/plain": [
       "[[0.9207, 0.0709, 0.0063, 0.0015, 0.0006, 0.0, 0.0, 0.0],\n",
       " [0.0062, 0.9084, 0.0776, 0.0059, 0.0006, 0.001, 0.0002, 0.0001],\n",
       " [0.0005, 0.0209, 0.9138, 0.0579, 0.0044, 0.0016, 0.0004, 0.0005],\n",
       " [0.0003, 0.0021, 0.041, 0.8937, 0.0482, 0.0086, 0.0024, 0.0037],\n",
       " [0.0003, 0.0008, 0.004, 0.0554, 0.8324, 0.0815, 0.0111, 0.0145],\n",
       " [0.0, 0.0008, 0.0027, 0.0034, 0.0539, 0.8241, 0.0492, 0.0659],\n",
       " [0.001, 0.0, 0.0029, 0.0058, 0.0155, 0.1054, 0.528, 0.3414],\n",
       " [0.0, 0.0, 0.0, 0.0, 0.0, 0.0, 0.0, 1.0]]"
      ]
     },
     "execution_count": 3,
     "metadata": {},
     "output_type": "execute_result"
    }
   ],
   "source": [
    "### Check if you uploaded matrix P correctly\n",
    "P"
   ]
  },
  {
   "cell_type": "code",
   "execution_count": 4,
   "metadata": {},
   "outputs": [
    {
     "data": {
      "text/plain": [
       "[0.9207, 0.0709, 0.0063, 0.0015, 0.0006, 0.0, 0.0, 0.0]"
      ]
     },
     "execution_count": 4,
     "metadata": {},
     "output_type": "execute_result"
    }
   ],
   "source": [
    "### E.g. probabilities from state 0 to 0, 1, ..., 7\n",
    "P[0][:]"
   ]
  },
  {
   "cell_type": "markdown",
   "metadata": {},
   "source": [
    "<b>Question:</b> Use suitable Matrix operations to <u>compute the probability</u> that a company which is rated with 'AAA' today will <u>not</u> default during the next 8 years. Give a short explanation to your answer!"
   ]
  },
  {
   "cell_type": "code",
   "execution_count": 5,
   "metadata": {},
   "outputs": [
    {
     "name": "stdout",
     "output_type": "stream",
     "text": [
      "0.9982299711480223\n"
     ]
    }
   ],
   "source": [
    "### Provide your computations here\n",
    "from numpy.linalg import matrix_power  \n",
    "eighth_power_P = matrix_power(P, 8)    \n",
    "Ndflt = 1-eighth_power_P[0][7]\n",
    "print(Ndflt)"
   ]
  },
  {
   "cell_type": "markdown",
   "metadata": {},
   "source": [
    "Provide your short explanation here: We can consider the scenario as following: starting from 0, after 8 steps and ending up at any point but 7. The probability for 8 steps is 8th the power P. Every row adds up to 1. Therefore, 1 minus the ${P^8}_{0,7}$ is the probability</u> that a company which is rated with 'AAA' today will <u>not</u> default during the next 8 years.\n",
    "\n",
    "<b>Answer:</b> 0.998229971148"
   ]
  },
  {
   "cell_type": "markdown",
   "metadata": {},
   "source": [
    "## Problem 2 (4 points)\n",
    "\n",
    "Write a Python code to simulate the Markov chain for different starting values:\n",
    "\n",
    "<i>Hint:</i> You can use the numpy built-in function <tt>random.choice()</tt>!"
   ]
  },
  {
   "cell_type": "code",
   "execution_count": 6,
   "metadata": {},
   "outputs": [],
   "source": [
    "def simulateRating(startRating, numberOfSteps, P):\n",
    "    samplePath = np.zeros(numberOfSteps + 1, dtype=int)\n",
    "    samplePath[0] = startRating\n",
    "    for i in range(1, numberOfSteps+1):\n",
    "        samplePath[i] = int(np.random.choice(8, 1, p = P[samplePath[i-1]][:]))\n",
    "    return samplePath"
   ]
  },
  {
   "cell_type": "code",
   "execution_count": 7,
   "metadata": {},
   "outputs": [
    {
     "data": {
      "text/plain": [
       "array([1, 1, 1, 1, 1, 1, 1, 1, 1, 1, 1])"
      ]
     },
     "execution_count": 7,
     "metadata": {},
     "output_type": "execute_result"
    }
   ],
   "source": [
    "### Test your code here:\n",
    "simulateRating(startRating=1, numberOfSteps=10, P=P)"
   ]
  },
  {
   "cell_type": "markdown",
   "metadata": {},
   "source": [
    "## Problem 3 (2 points)\n",
    "\n",
    "Write a code to plot <tt>numPaths</tt> simulated paths of length <tt>lengthPath</tt> with staring value <tt>startRating</tt>."
   ]
  },
  {
   "cell_type": "code",
   "execution_count": 8,
   "metadata": {},
   "outputs": [],
   "source": [
    "def multiple_paths(startRating, lengthPath, numPaths):\n",
    "    Paths = np.empty(shape = (numPaths, lengthPath+1))\n",
    "    for i in range(numPaths):\n",
    "        Paths[i] = simulateRating(startRating, lengthPath, P = P)\n",
    "    return Paths"
   ]
  },
  {
   "cell_type": "code",
   "execution_count": 9,
   "metadata": {},
   "outputs": [],
   "source": [
    "startRating = 2            \n",
    "lengthPath = 50\n",
    "numPaths = 2"
   ]
  },
  {
   "cell_type": "code",
   "execution_count": 10,
   "metadata": {},
   "outputs": [],
   "source": [
    "d_Paths = multiple_paths(2, 50, 2)"
   ]
  },
  {
   "cell_type": "code",
   "execution_count": 11,
   "metadata": {},
   "outputs": [
    {
     "data": {
      "text/plain": [
       "[<matplotlib.lines.Line2D at 0x115feeb00>]"
      ]
     },
     "execution_count": 11,
     "metadata": {},
     "output_type": "execute_result"
    },
    {
     "data": {
      "image/png": "[encoded data removed]",
      "text/plain": [
       "<Figure size 720x360 with 1 Axes>"
      ]
     },
     "metadata": {},
     "output_type": "display_data"
    }
   ],
   "source": [
    "plt.figure( figsize=( 10, 5 ) )\n",
    "\n",
    "plt.title('Simulated rating paths')\n",
    "\n",
    "plt.ylabel('Credit Ratings')\n",
    "plt.xlabel('Year')\n",
    "\n",
    "plt.ylim( -1, 8 )\n",
    "ratings = [ '', 'AAA', 'AA', 'A', 'BBB', 'BB', 'B', 'CCC/C', 'D', '' ]\n",
    "plt.yticks( range( -1, 9 ), ratings )\n",
    "plt.plot(np.arange(lengthPath + 1), d_Paths[0])\n",
    "plt.plot(np.arange(lengthPath + 1), d_Paths[1], color = 'orange')"
   ]
  },
  {
   "cell_type": "markdown",
   "metadata": {},
   "source": [
    "## Problem 4 (2 points)\n",
    "\n",
    "Can you say something about the long run behavior of the Markov chain? Does it depend on today's starting rate at time $0$?\n",
    "\n",
    "Justify your answer with a plot and/or computations!"
   ]
  },
  {
   "cell_type": "markdown",
   "metadata": {
    "collapsed": true
   },
   "source": [
    "<b>Answer</b>: If any Markov chain has an absorb state, and every starting point has a path to the absorb state, then no matter which point this Markov chain starts from, it will arrive the absorb state and stay there eventually. \n",
    "In this case, rating class D is absorb state, and it doesn't depend on starting rate at time 0, it will arrive D eventaully. "
   ]
  },
  {
   "cell_type": "code",
   "execution_count": 142,
   "metadata": {},
   "outputs": [
    {
     "data": {
      "text/plain": [
       "[<matplotlib.lines.Line2D at 0x1165705f8>]"
      ]
     },
     "execution_count": 142,
     "metadata": {},
     "output_type": "execute_result"
    },
    {
     "data": {
      "image/png": "[encoded data removed]",
      "text/plain": [
       "<matplotlib.figure.Figure at 0x117182160>"
      ]
     },
     "metadata": {},
     "output_type": "display_data"
    }
   ],
   "source": [
    "lengthPath = 400\n",
    "\n",
    "plt.figure( figsize=( 15, 5 ) )\n",
    "\n",
    "plt.title('Simulated rating paths')\n",
    "\n",
    "plt.ylabel('Credit Ratings')\n",
    "plt.xlabel('Year')\n",
    "\n",
    "plt.ylim( -1, 8 )\n",
    "ratings = [ '', 'AAA', 'AA', 'A', 'BBB', 'BB', 'B', 'CCC/C', 'D', '' ]\n",
    "plt.yticks( range( -1, 9 ), ratings )\n",
    "\n",
    "plt.plot(np.arange(lengthPath + 1), simulateRating(0, lengthPath, P), color = 'orange' )\n",
    "plt.plot(np.arange(lengthPath + 1), simulateRating(1, lengthPath, P), color = 'green')\n",
    "plt.plot(np.arange(lengthPath + 1), simulateRating(2, lengthPath, P), color = 'black')\n",
    "plt.plot(np.arange(lengthPath + 1), simulateRating(3, lengthPath, P))\n",
    "\n",
    "plt.plot(np.arange(lengthPath + 1), simulateRating(4, lengthPath, P), color = 'purple')\n",
    "plt.plot(np.arange(lengthPath + 1), simulateRating(5, lengthPath, P), color = 'grey')\n",
    "plt.plot(np.arange(lengthPath + 1), simulateRating(6, lengthPath, P), color = 'yellow')\n",
    "plt.plot(np.arange(lengthPath + 1), simulateRating(7, lengthPath, P), color = 'blue')"
   ]
  },
  {
   "cell_type": "code",
   "execution_count": null,
   "metadata": {
    "collapsed": true
   },
   "outputs": [],
   "source": []
  }
 ],
 "metadata": {
  "anaconda-cloud": {},
  "kernelspec": {
   "display_name": "Python 3",
   "language": "python",
   "name": "python3"
  },
  "language_info": {
   "codemirror_mode": {
    "name": "ipython",
    "version": 3
   },
   "file_extension": ".py",
   "mimetype": "text/x-python",
   "name": "python",
   "nbconvert_exporter": "python",
   "pygments_lexer": "ipython3",
   "version": "3.6.5"
  }
 },
 "nbformat": 4,
 "nbformat_minor": 2
}
